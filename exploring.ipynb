{
 "cells": [
  {
   "cell_type": "code",
   "execution_count": 1,
   "metadata": {
    "collapsed": false
   },
   "outputs": [
    {
     "name": "stderr",
     "output_type": "stream",
     "text": [
      "/usr/lib64/python3.4/site-packages/matplotlib/backends/backend_gtk3agg.py:18: UserWarning: The Gtk3Agg backend is known to not work on Python 3.x with pycairo. Try installing cairocffi.\n",
      "  \"The Gtk3Agg backend is known to not work on Python 3.x with pycairo. \"\n",
      "/usr/lib64/python3.4/site-packages/pandas/io/parsers.py:1170: DtypeWarning: Columns (18,29,38) have mixed types. Specify dtype option on import or set low_memory=False.\n",
      "  data = self._reader.read(nrows)\n"
     ]
    }
   ],
   "source": [
    "import pandas as pd\n",
    "import matplotlib.pyplot as plt\n",
    "import matplotlib\n",
    "matplotlib.style.use('ggplot')\n",
    "%matplotlib inline\n",
    "\n",
    "data = pd.read_csv('Parking_Violations.csv')"
   ]
  },
  {
   "cell_type": "code",
   "execution_count": 2,
   "metadata": {
    "collapsed": false
   },
   "outputs": [
    {
     "data": {
      "text/plain": [
       "Index(['﻿Summons Number', 'Plate ID', 'Registration State', 'Plate Type',\n",
       "       'Issue Date', 'Violation Code', 'Vehicle Body Type', 'Vehicle Make',\n",
       "       'Issuing Agency', 'Street Code1', 'Street Code2', 'Street Code3',\n",
       "       'Vehicle Expiration Date', 'Violation Location', 'Violation Precinct',\n",
       "       'Issuer Precinct', 'Issuer Code', 'Issuer Command', 'Issuer Squad',\n",
       "       'Violation Time', 'Time First Observed', 'Violation County',\n",
       "       'Violation In Front Of Or Opposite', 'House Number', 'Street Name',\n",
       "       'Intersecting Street', 'Date First Observed', 'Law Section',\n",
       "       'Sub Division', 'Violation Legal Code', 'Days Parking In Effect    ',\n",
       "       'From Hours In Effect', 'To Hours In Effect', 'Vehicle Color',\n",
       "       'Unregistered Vehicle?', 'Vehicle Year', 'Meter Number',\n",
       "       'Feet From Curb', 'Violation Post Code', 'Violation Description',\n",
       "       'No Standing or Stopping Violation', 'Hydrant Violation',\n",
       "       'Double Parking Violation'],\n",
       "      dtype='object')"
      ]
     },
     "execution_count": 2,
     "metadata": {},
     "output_type": "execute_result"
    }
   ],
   "source": [
    "data.columns"
   ]
  },
  {
   "cell_type": "code",
   "execution_count": 3,
   "metadata": {
    "collapsed": false
   },
   "outputs": [
    {
     "data": {
      "text/html": [
       "<div>\n",
       "<table border=\"1\" class=\"dataframe\">\n",
       "  <thead>\n",
       "    <tr style=\"text-align: right;\">\n",
       "      <th></th>\n",
       "      <th>﻿Summons Number</th>\n",
       "      <th>Plate ID</th>\n",
       "      <th>Registration State</th>\n",
       "      <th>Plate Type</th>\n",
       "      <th>Issue Date</th>\n",
       "      <th>Violation Code</th>\n",
       "      <th>Vehicle Body Type</th>\n",
       "      <th>Vehicle Make</th>\n",
       "      <th>Issuing Agency</th>\n",
       "      <th>Street Code1</th>\n",
       "      <th>...</th>\n",
       "      <th>Vehicle Color</th>\n",
       "      <th>Unregistered Vehicle?</th>\n",
       "      <th>Vehicle Year</th>\n",
       "      <th>Meter Number</th>\n",
       "      <th>Feet From Curb</th>\n",
       "      <th>Violation Post Code</th>\n",
       "      <th>Violation Description</th>\n",
       "      <th>No Standing or Stopping Violation</th>\n",
       "      <th>Hydrant Violation</th>\n",
       "      <th>Double Parking Violation</th>\n",
       "    </tr>\n",
       "  </thead>\n",
       "  <tbody>\n",
       "    <tr>\n",
       "      <th>0</th>\n",
       "      <td>1361929741</td>\n",
       "      <td>FCJ5493</td>\n",
       "      <td>NY</td>\n",
       "      <td>PAS</td>\n",
       "      <td>12/18/1970</td>\n",
       "      <td>20</td>\n",
       "      <td>SUBN</td>\n",
       "      <td>GMC</td>\n",
       "      <td>S</td>\n",
       "      <td>35030</td>\n",
       "      <td>...</td>\n",
       "      <td>BLACK</td>\n",
       "      <td>0</td>\n",
       "      <td>2013</td>\n",
       "      <td>-</td>\n",
       "      <td>0</td>\n",
       "      <td>NaN</td>\n",
       "      <td>NaN</td>\n",
       "      <td>NaN</td>\n",
       "      <td>NaN</td>\n",
       "      <td>NaN</td>\n",
       "    </tr>\n",
       "    <tr>\n",
       "      <th>1</th>\n",
       "      <td>1366962000</td>\n",
       "      <td>63540MC</td>\n",
       "      <td>NY</td>\n",
       "      <td>COM</td>\n",
       "      <td>02/02/1971</td>\n",
       "      <td>46</td>\n",
       "      <td>DELV</td>\n",
       "      <td>FRUEH</td>\n",
       "      <td>P</td>\n",
       "      <td>58830</td>\n",
       "      <td>...</td>\n",
       "      <td>BRN</td>\n",
       "      <td>0</td>\n",
       "      <td>2013</td>\n",
       "      <td>-</td>\n",
       "      <td>0</td>\n",
       "      <td>NaN</td>\n",
       "      <td>NaN</td>\n",
       "      <td>NaN</td>\n",
       "      <td>NaN</td>\n",
       "      <td>NaN</td>\n",
       "    </tr>\n",
       "    <tr>\n",
       "      <th>2</th>\n",
       "      <td>1356906515</td>\n",
       "      <td>GFM1421</td>\n",
       "      <td>NY</td>\n",
       "      <td>PAS</td>\n",
       "      <td>09/18/1971</td>\n",
       "      <td>40</td>\n",
       "      <td>SDN</td>\n",
       "      <td>MAZDA</td>\n",
       "      <td>X</td>\n",
       "      <td>13610</td>\n",
       "      <td>...</td>\n",
       "      <td>BLK</td>\n",
       "      <td>0</td>\n",
       "      <td>2010</td>\n",
       "      <td>-</td>\n",
       "      <td>7</td>\n",
       "      <td>NaN</td>\n",
       "      <td>NaN</td>\n",
       "      <td>NaN</td>\n",
       "      <td>NaN</td>\n",
       "      <td>NaN</td>\n",
       "    </tr>\n",
       "    <tr>\n",
       "      <th>3</th>\n",
       "      <td>1342296217</td>\n",
       "      <td>FYM5117</td>\n",
       "      <td>NY</td>\n",
       "      <td>SRF</td>\n",
       "      <td>09/18/1971</td>\n",
       "      <td>21</td>\n",
       "      <td>SUBN</td>\n",
       "      <td>NISSA</td>\n",
       "      <td>S</td>\n",
       "      <td>28190</td>\n",
       "      <td>...</td>\n",
       "      <td>WHITE</td>\n",
       "      <td>0</td>\n",
       "      <td>2012</td>\n",
       "      <td>-</td>\n",
       "      <td>0</td>\n",
       "      <td>NaN</td>\n",
       "      <td>NaN</td>\n",
       "      <td>NaN</td>\n",
       "      <td>NaN</td>\n",
       "      <td>NaN</td>\n",
       "    </tr>\n",
       "    <tr>\n",
       "      <th>4</th>\n",
       "      <td>1342296199</td>\n",
       "      <td>95V6675</td>\n",
       "      <td>TX</td>\n",
       "      <td>PAS</td>\n",
       "      <td>09/18/1971</td>\n",
       "      <td>21</td>\n",
       "      <td>NaN</td>\n",
       "      <td>GMC</td>\n",
       "      <td>S</td>\n",
       "      <td>11790</td>\n",
       "      <td>...</td>\n",
       "      <td>SILVR</td>\n",
       "      <td>0</td>\n",
       "      <td>2008</td>\n",
       "      <td>-</td>\n",
       "      <td>0</td>\n",
       "      <td>NaN</td>\n",
       "      <td>NaN</td>\n",
       "      <td>NaN</td>\n",
       "      <td>NaN</td>\n",
       "      <td>NaN</td>\n",
       "    </tr>\n",
       "  </tbody>\n",
       "</table>\n",
       "<p>5 rows × 43 columns</p>\n",
       "</div>"
      ],
      "text/plain": [
       "   ﻿Summons Number Plate ID Registration State Plate Type  Issue Date  \\\n",
       "0       1361929741  FCJ5493                 NY        PAS  12/18/1970   \n",
       "1       1366962000  63540MC                 NY        COM  02/02/1971   \n",
       "2       1356906515  GFM1421                 NY        PAS  09/18/1971   \n",
       "3       1342296217  FYM5117                 NY        SRF  09/18/1971   \n",
       "4       1342296199  95V6675                 TX        PAS  09/18/1971   \n",
       "\n",
       "   Violation Code Vehicle Body Type Vehicle Make Issuing Agency  Street Code1  \\\n",
       "0              20              SUBN          GMC              S         35030   \n",
       "1              46              DELV        FRUEH              P         58830   \n",
       "2              40               SDN        MAZDA              X         13610   \n",
       "3              21              SUBN        NISSA              S         28190   \n",
       "4              21               NaN          GMC              S         11790   \n",
       "\n",
       "            ...             Vehicle Color  Unregistered Vehicle?  \\\n",
       "0           ...                     BLACK                      0   \n",
       "1           ...                       BRN                      0   \n",
       "2           ...                       BLK                      0   \n",
       "3           ...                     WHITE                      0   \n",
       "4           ...                     SILVR                      0   \n",
       "\n",
       "   Vehicle Year  Meter Number  Feet From Curb  Violation Post Code  \\\n",
       "0          2013             -               0                  NaN   \n",
       "1          2013             -               0                  NaN   \n",
       "2          2010             -               7                  NaN   \n",
       "3          2012             -               0                  NaN   \n",
       "4          2008             -               0                  NaN   \n",
       "\n",
       "   Violation Description No Standing or Stopping Violation Hydrant Violation  \\\n",
       "0                    NaN                               NaN               NaN   \n",
       "1                    NaN                               NaN               NaN   \n",
       "2                    NaN                               NaN               NaN   \n",
       "3                    NaN                               NaN               NaN   \n",
       "4                    NaN                               NaN               NaN   \n",
       "\n",
       "  Double Parking Violation  \n",
       "0                      NaN  \n",
       "1                      NaN  \n",
       "2                      NaN  \n",
       "3                      NaN  \n",
       "4                      NaN  \n",
       "\n",
       "[5 rows x 43 columns]"
      ]
     },
     "execution_count": 3,
     "metadata": {},
     "output_type": "execute_result"
    }
   ],
   "source": [
    "data.head()"
   ]
  },
  {
   "cell_type": "markdown",
   "metadata": {},
   "source": [
    "# By states"
   ]
  },
  {
   "cell_type": "code",
   "execution_count": 4,
   "metadata": {
    "collapsed": false
   },
   "outputs": [
    {
     "data": {
      "text/plain": [
       "Registration State\n",
       "NY    7029804\n",
       "NJ     878677\n",
       "PA     225760\n",
       "CT     136973\n",
       "FL     111887\n",
       "MA      78650\n",
       "VA      60951\n",
       "MD      50407\n",
       "IN      49126\n",
       "NC      47117\n",
       "dtype: int64"
      ]
     },
     "execution_count": 4,
     "metadata": {},
     "output_type": "execute_result"
    }
   ],
   "source": [
    "# total\n",
    "data.groupby('Registration State').size().order(ascending=False).head(10)"
   ]
  },
  {
   "cell_type": "code",
   "execution_count": 5,
   "metadata": {
    "collapsed": false
   },
   "outputs": [
    {
     "data": {
      "text/plain": [
       "Registration State\n",
       "NY    77.248234\n",
       "NJ     9.655496\n",
       "PA     2.480803\n",
       "CT     1.505152\n",
       "FL     1.229490\n",
       "MA     0.864259\n",
       "VA     0.669771\n",
       "MD     0.553906\n",
       "IN     0.539830\n",
       "NC     0.517753\n",
       "dtype: float64"
      ]
     },
     "execution_count": 5,
     "metadata": {},
     "output_type": "execute_result"
    }
   ],
   "source": [
    "# percentage\n",
    "temp = data.groupby('Registration State').size().apply(lambda x: 100*x/float(data.shape[0])).order(ascending=False).head(10)\n",
    "temp"
   ]
  },
  {
   "cell_type": "code",
   "execution_count": 6,
   "metadata": {
    "collapsed": false
   },
   "outputs": [
    {
     "name": "stdout",
     "output_type": "stream",
     "text": [
      "NY\t4.100946\n",
      "NJ\t3.115142\n",
      "PA\t4.140379\n",
      "CT\t1.064669\n",
      "FL\t6.190852\n",
      "MA\t1.932177\n",
      "VA\t2.799685\n",
      "MD\t1.577287\n",
      "IN\t2.365931\n",
      "NC\t3.075710\n"
     ]
    }
   ],
   "source": [
    "# numbers from http://www.rita.dot.gov/bts/sites/rita.dot.gov.bts/files/publications/state_transportation_statistics_85/index.html\n",
    "byStates = {'NY':10400000/2536000, 'NJ':7900000/2536000, 'PA':10500000/2536000, 'CT':2700000/2536000, 'FL':15700000/2536000, 'MA':4900000/2536000, 'VA':7100000/2536000, 'MD':4000000/2536000, 'IN':6000000/2536000, 'NC':7800000/2536000}\n",
    "states = ['NY', 'NJ', 'PA', 'CT', 'FL', 'MA', 'VA', 'MD', 'IN', 'NC']\n",
    "for state in states:\n",
    "    print('%s\\t%f' % (state, byStates[state]))"
   ]
  },
  {
   "cell_type": "code",
   "execution_count": 7,
   "metadata": {
    "collapsed": false
   },
   "outputs": [
    {
     "data": {
      "text/plain": [
       "<matplotlib.text.Text at 0x7f5deab586a0>"
      ]
     },
     "execution_count": 7,
     "metadata": {},
     "output_type": "execute_result"
    },
    {
     "data": {
      "image/png": "[encoded data removed]",
      "text/plain": [
       "<matplotlib.figure.Figure at 0x7f5d9bb015c0>"
      ]
     },
     "metadata": {},
     "output_type": "display_data"
    }
   ],
   "source": [
    "temp2 = pd.Series(byStates)\n",
    "diff = temp - temp2\n",
    "diff.order().plot(kind='barh', figsize=[9, 10])\n",
    "plt.title('Dataset vs Population')\n",
    "plt.ylabel('Registration State')\n",
    "plt.xlabel('Percentage Difference')"
   ]
  },
  {
   "cell_type": "markdown",
   "metadata": {},
   "source": [
    "# By colors"
   ]
  },
  {
   "cell_type": "code",
   "execution_count": 8,
   "metadata": {
    "collapsed": false
   },
   "outputs": [],
   "source": [
    "# some data cleaning\n",
    "color = data.index[data['Vehicle Color'] == 'WH']\n",
    "data.loc[color, 'Vehicle Color'] = 'WHITE'\n",
    "color = data.index[data['Vehicle Color'] == 'WHT']\n",
    "data.loc[color, 'Vehicle Color'] = 'WHITE'\n",
    "color = data.index[data['Vehicle Color'] == 'WT']\n",
    "data.loc[color, 'Vehicle Color'] = 'WHITE'\n",
    "\n",
    "color = data.index[data['Vehicle Color'] == 'GY']\n",
    "data.loc[color, 'Vehicle Color'] = 'GRAY'\n",
    "color = data.index[data['Vehicle Color'] == 'GREY']\n",
    "data.loc[color, 'Vehicle Color'] = 'GRAY'\n",
    "color = data.index[data['Vehicle Color'] == 'GRY']\n",
    "data.loc[color, 'Vehicle Color'] = 'GRAY'\n",
    "\n",
    "color = data.index[data['Vehicle Color'] == 'BK']\n",
    "data.loc[color, 'Vehicle Color'] = 'BLACK'\n",
    "color = data.index[data['Vehicle Color'] == 'BLK']\n",
    "data.loc[color, 'Vehicle Color'] = 'BLACK'\n",
    "\n",
    "color = data.index[data['Vehicle Color'] == 'BL']\n",
    "data.loc[color, 'Vehicle Color'] = 'BLUE'\n",
    "color = data.index[data['Vehicle Color'] == 'BLU']\n",
    "data.loc[color, 'Vehicle Color'] = 'BLUE'\n",
    "\n",
    "color = data.index[data['Vehicle Color'] == 'SILVE']\n",
    "data.loc[color, 'Vehicle Color'] = 'SILVER'\n",
    "color = data.index[data['Vehicle Color'] == 'SL']\n",
    "data.loc[color, 'Vehicle Color'] = 'SILVER'\n",
    "color = data.index[data['Vehicle Color'] == 'SIL']\n",
    "data.loc[color, 'Vehicle Color'] = 'SILVER'\n",
    "\n",
    "color = data.index[data['Vehicle Color'] == 'RD']\n",
    "data.loc[color, 'Vehicle Color'] = 'RED'\n",
    "\n",
    "color = data.index[data['Vehicle Color'] == 'GR']\n",
    "data.loc[color, 'Vehicle Color'] = 'GREEN'\n",
    "color = data.index[data['Vehicle Color'] == 'GRN']\n",
    "data.loc[color, 'Vehicle Color'] = 'GREEN'\n",
    "\n",
    "color = data.index[data['Vehicle Color'] == 'BR']\n",
    "data.loc[color, 'Vehicle Color'] = 'BROWN'\n",
    "color = data.index[data['Vehicle Color'] == 'BRN']\n",
    "data.loc[color, 'Vehicle Color'] = 'BROWN'\n",
    "\n",
    "color = data.index[data['Vehicle Color'] == 'YW']\n",
    "data.loc[color, 'Vehicle Color'] = 'YELLOW'\n",
    "color = data.index[data['Vehicle Color'] == 'YELLO']\n",
    "data.loc[color, 'Vehicle Color'] = 'YELLOW'\n",
    "\n",
    "color = data.index[data['Vehicle Color'] == 'TN']\n",
    "data.loc[color, 'Vehicle Color'] = 'TAN'\n",
    "\n",
    "color = data.index[data['Vehicle Color'] == 'GL']\n",
    "data.loc[color, 'Vehicle Color'] = 'GOLD'\n",
    "\n",
    "color = data.index[data['Vehicle Color'] == 'OR']\n",
    "data.loc[color, 'Vehicle Color'] = 'ORANGE'\n",
    "color = data.index[data['Vehicle Color'] == 'ORANG']\n",
    "data.loc[color, 'Vehicle Color'] = 'ORANGE'\n",
    "\n",
    "color = data.index[data['Vehicle Color'] == 'PURPL']\n",
    "data.loc[color, 'Vehicle Color'] = 'PURPLE'"
   ]
  },
  {
   "cell_type": "code",
   "execution_count": 9,
   "metadata": {
    "collapsed": false
   },
   "outputs": [
    {
     "data": {
      "text/plain": [
       "Vehicle Color\n",
       "WHITE     2595463\n",
       "GRAY      1721538\n",
       "BLACK     1676038\n",
       "BLUE       750669\n",
       "RED        538051\n",
       "GREEN      359944\n",
       "BROWN      355121\n",
       "SILVER     327105\n",
       "TAN        203212\n",
       "YELLOW     113885\n",
       "dtype: int64"
      ]
     },
     "execution_count": 9,
     "metadata": {},
     "output_type": "execute_result"
    }
   ],
   "source": [
    "# total\n",
    "data.groupby('Vehicle Color').size().order(ascending=False).head(10)"
   ]
  },
  {
   "cell_type": "code",
   "execution_count": 10,
   "metadata": {
    "collapsed": false
   },
   "outputs": [
    {
     "data": {
      "text/plain": [
       "Vehicle Color\n",
       "WHITE     28.520700\n",
       "GRAY      18.917422\n",
       "BLACK     18.417437\n",
       "BLUE       8.248858\n",
       "RED        5.912468\n",
       "GREEN      3.955308\n",
       "BROWN      3.902309\n",
       "SILVER     3.594451\n",
       "TAN        2.233031\n",
       "YELLOW     1.251445\n",
       "dtype: float64"
      ]
     },
     "execution_count": 10,
     "metadata": {},
     "output_type": "execute_result"
    }
   ],
   "source": [
    "# percentage\n",
    "temp = data.groupby('Vehicle Color').size().apply(lambda x: 100*x/float(data.shape[0])).order(ascending=False).head(10)\n",
    "temp"
   ]
  },
  {
   "cell_type": "code",
   "execution_count": 11,
   "metadata": {
    "collapsed": false
   },
   "outputs": [
    {
     "name": "stdout",
     "output_type": "stream",
     "text": [
      "WHITE\t26.000000\n",
      "GRAY\t13.000000\n",
      "BLACK\t20.000000\n",
      "BLUE\t7.000000\n",
      "RED\t9.000000\n",
      "GREEN\t2.000000\n",
      "BROWN\t5.000000\n",
      "SILVER\t14.000000\n",
      "TAN\t0.400000\n",
      "YELLOW\t2.000000\n"
     ]
    }
   ],
   "source": [
    "# numbers from http://www.axaltacs.com/content/dam/New%20Axalta%20Corporate%20Website/Documents/Publications/Axalta2013_Global_Color_Popularity_Report.pdf\n",
    "byColors = {'WHITE':26, 'GRAY':13, 'BLACK':20, 'BLUE':7, 'RED':9, 'GREEN':2, 'BROWN':5, 'SILVER':14, 'TAN':0.4, 'YELLOW':2}\n",
    "colors = ['WHITE', 'GRAY', 'BLACK', 'BLUE', 'RED', 'GREEN', 'BROWN', 'SILVER', 'TAN', 'YELLOW']\n",
    "for color in colors:\n",
    "    print('%s\\t%f' % (color, byColors[color]))"
   ]
  },
  {
   "cell_type": "code",
   "execution_count": 12,
   "metadata": {
    "collapsed": false
   },
   "outputs": [
    {
     "data": {
      "text/plain": [
       "<matplotlib.text.Text at 0x7f5d8dba2a90>"
      ]
     },
     "execution_count": 12,
     "metadata": {},
     "output_type": "execute_result"
    },
    {
     "data": {
      "image/png": "[encoded data removed]",
      "text/plain": [
       "<matplotlib.figure.Figure at 0x7f5d916ceba8>"
      ]
     },
     "metadata": {},
     "output_type": "display_data"
    }
   ],
   "source": [
    "temp2 = pd.Series(byColors)\n",
    "diff = temp - temp2\n",
    "diff.order().plot(kind='barh', figsize=[9, 10])\n",
    "plt.title('Dataset vs Population')\n",
    "plt.ylabel('Vehicle Color')\n",
    "plt.xlabel('Percentage Difference')"
   ]
  },
  {
   "cell_type": "markdown",
   "metadata": {},
   "source": [
    "# By make"
   ]
  },
  {
   "cell_type": "code",
   "execution_count": 13,
   "metadata": {
    "collapsed": true
   },
   "outputs": [],
   "source": [
    "# some data cleaning\n",
    "make = data.index[data['Vehicle Make'] == 'TOYOT']\n",
    "data.loc[make, 'Vehicle Make'] = 'TOYOTA'\n",
    "\n",
    "make = data.index[data['Vehicle Make'] == 'CHEVR']\n",
    "data.loc[make, 'Vehicle Make'] = 'CHEVROLET'\n",
    "\n",
    "make = data.index[data['Vehicle Make'] == 'NISSA']\n",
    "data.loc[make, 'Vehicle Make'] = 'NISSAN'\n",
    "\n",
    "make = data.index[data['Vehicle Make'] == 'ME/BE']\n",
    "data.loc[make, 'Vehicle Make'] = 'MERCEDES-BENZ'\n",
    "\n",
    "make = data.index[data['Vehicle Make'] == 'HYUND']\n",
    "data.loc[make, 'Vehicle Make'] = 'HYUNDAI'\n",
    "\n",
    "make = data.index[data['Vehicle Make'] == 'VOLKS']\n",
    "data.loc[make, 'Vehicle Make'] = 'VOLKSWAGEN'\n",
    "\n",
    "make = data.index[data['Vehicle Make'] == 'CHRYS']\n",
    "data.loc[make, 'Vehicle Make'] = 'CHRYSLER'\n",
    "\n",
    "make = data.index[data['Vehicle Make'] == 'LINCO']\n",
    "data.loc[make, 'Vehicle Make'] = 'LINCOLN'\n",
    "\n",
    "make = data.index[data['Vehicle Make'] == 'MITSU']\n",
    "data.loc[make, 'Vehicle Make'] = 'MITSUBISHI'\n",
    "\n",
    "make = data.index[data['Vehicle Make'] == 'INFIN']\n",
    "data.loc[make, 'Vehicle Make'] = 'INFINITY'\n",
    "\n",
    "make = data.index[data['Vehicle Make'] == 'MERCU']\n",
    "data.loc[make, 'Vehicle Make'] = 'MERCURY'\n",
    "\n",
    "make = data.index[data['Vehicle Make'] == 'SUBAR']\n",
    "data.loc[make, 'Vehicle Make'] = 'SUBARU'\n",
    "\n",
    "make = data.index[data['Vehicle Make'] == 'CADIL']\n",
    "data.loc[make, 'Vehicle Make'] = 'CADILLAC'\n",
    "\n",
    "make = data.index[data['Vehicle Make'] == 'FRUEH']\n",
    "data.loc[make, 'Vehicle Make'] = 'FRUEHAUF'"
   ]
  },
  {
   "cell_type": "code",
   "execution_count": 14,
   "metadata": {
    "collapsed": false,
    "scrolled": true
   },
   "outputs": [
    {
     "data": {
      "text/plain": [
       "Vehicle Make\n",
       "FORD             1248622\n",
       "TOYOTA            878786\n",
       "HONDA             810460\n",
       "CHEVROLET         743556\n",
       "NISSAN            655276\n",
       "DODGE             316499\n",
       "GMC               313671\n",
       "MERCEDES-BENZ     299845\n",
       "FRUEHAUF          289634\n",
       "INTER             277444\n",
       "dtype: int64"
      ]
     },
     "execution_count": 14,
     "metadata": {},
     "output_type": "execute_result"
    }
   ],
   "source": [
    "# total\n",
    "data.groupby('Vehicle Make').size().order(ascending=False).head(10)"
   ]
  },
  {
   "cell_type": "code",
   "execution_count": 15,
   "metadata": {
    "collapsed": false
   },
   "outputs": [
    {
     "data": {
      "text/plain": [
       "Vehicle Make\n",
       "FORD             13.720702\n",
       "TOYOTA            9.656694\n",
       "HONDA             8.905882\n",
       "CHEVROLET         8.170695\n",
       "NISSAN            7.200615\n",
       "DODGE             3.477905\n",
       "GMC               3.446829\n",
       "MERCEDES-BENZ     3.294899\n",
       "FRUEHAUF          3.182694\n",
       "INTER             3.048742\n",
       "dtype: float64"
      ]
     },
     "execution_count": 15,
     "metadata": {},
     "output_type": "execute_result"
    }
   ],
   "source": [
    "# percentage\n",
    "temp = data.groupby('Vehicle Make').size().apply(lambda x: 100*x/float(data.shape[0])).order(ascending=False).head(10)\n",
    "temp"
   ]
  },
  {
   "cell_type": "code",
   "execution_count": 16,
   "metadata": {
    "collapsed": false
   },
   "outputs": [
    {
     "name": "stdout",
     "output_type": "stream",
     "text": [
      "FORD\t14.500000\n",
      "TOYOTA\t12.300000\n",
      "HONDA\t7.900000\n",
      "CHEVROLET\t12.400000\n",
      "NISSAN\t7.900000\n",
      "DODGE\t2.900000\n",
      "GMC\t3.100000\n",
      "MERCEDES-BENZ\t2.100000\n",
      "FRUEHAUF\t3.182694\n",
      "INTER\t3.048742\n"
     ]
    }
   ],
   "source": [
    "# numbers from http://www.goodcarbadcar.net/2015/08/july-2015-usa-auto-sales-figures-by-brand-make.html\n",
    "byMake = {'FORD':14.5, 'TOYOTA':12.3, 'HONDA':7.9, 'CHEVROLET':12.4, 'NISSAN':7.9, 'DODGE':2.9, 'GMC':3.1, 'MERCEDES-BENZ':2.1, 'FRUEHAUF':3.182694, 'INTER':3.048742}\n",
    "makes = ['FORD', 'TOYOTA', 'HONDA', 'CHEVROLET', 'NISSAN', 'DODGE', 'GMC', 'MERCEDES-BENZ', 'FRUEHAUF', 'INTER']\n",
    "for make in makes:\n",
    "    print('%s\\t%f' % (make, byMake[make]))"
   ]
  },
  {
   "cell_type": "code",
   "execution_count": 17,
   "metadata": {
    "collapsed": false
   },
   "outputs": [
    {
     "data": {
      "text/plain": [
       "<matplotlib.text.Text at 0x7f5da412f0b8>"
      ]
     },
     "execution_count": 17,
     "metadata": {},
     "output_type": "execute_result"
    },
    {
     "data": {
      "image/png": "[encoded data removed]",
      "text/plain": [
       "<matplotlib.figure.Figure at 0x7f5d7b5771d0>"
      ]
     },
     "metadata": {},
     "output_type": "display_data"
    }
   ],
   "source": [
    "temp2 = pd.Series(byMake)\n",
    "diff = temp - temp2\n",
    "diff.order().plot(kind='barh', figsize=[9, 10])\n",
    "plt.title('Dataset vs Population')\n",
    "plt.ylabel('Vehicle Make')\n",
    "plt.xlabel('Percentage Difference')"
   ]
  },
  {
   "cell_type": "markdown",
   "metadata": {},
   "source": [
    "#By type"
   ]
  },
  {
   "cell_type": "code",
   "execution_count": 18,
   "metadata": {
    "collapsed": true
   },
   "outputs": [],
   "source": [
    "# some data cleaning\n",
    "bodytype = data.index[data['Vehicle Body Type'] == 'SUBN']\n",
    "data.loc[bodytype, 'Vehicle Body Type'] = 'SUV'\n",
    "bodytype = data.index[data['Vehicle Body Type'] == 'UTIL']\n",
    "data.loc[bodytype, 'Vehicle Body Type'] = 'SUV'\n",
    "\n",
    "bodytype = data.index[data['Vehicle Body Type'] == '4DSD']\n",
    "data.loc[bodytype, 'Vehicle Body Type'] = 'SEDAN'\n",
    "bodytype = data.index[data['Vehicle Body Type'] == '2DSD']\n",
    "data.loc[bodytype, 'Vehicle Body Type'] = 'SEDAN'\n",
    "bodytype = data.index[data['Vehicle Body Type'] == 'SDN']\n",
    "data.loc[bodytype, 'Vehicle Body Type'] = 'SEDAN'\n",
    "bodytype = data.index[data['Vehicle Body Type'] == '4 DR']\n",
    "data.loc[bodytype, 'Vehicle Body Type'] = 'SEDAN'\n",
    "\n",
    "bodytype = data.index[data['Vehicle Body Type'] == 'PICK']\n",
    "data.loc[bodytype, 'Vehicle Body Type'] = 'PICKUP'\n",
    "bodytype = data.index[data['Vehicle Body Type'] == 'P-U']\n",
    "data.loc[bodytype, 'Vehicle Body Type'] = 'PICKUP'\n",
    "\n",
    "bodytype = data.index[data['Vehicle Body Type'] == 'DELV']\n",
    "data.loc[bodytype, 'Vehicle Body Type'] = 'DELIVERY/TRUCK/TRAILER'\n",
    "bodytype = data.index[data['Vehicle Body Type'] == 'REFG']\n",
    "data.loc[bodytype, 'Vehicle Body Type'] = 'DELIVERY/TRUCK/TRAILER'\n",
    "bodytype = data.index[data['Vehicle Body Type'] == 'TRAC']\n",
    "data.loc[bodytype, 'Vehicle Body Type'] = 'DELIVERY/TRUCK/TRAILER'\n",
    "bodytype = data.index[data['Vehicle Body Type'] == 'TRLR']\n",
    "data.loc[bodytype, 'Vehicle Body Type'] = 'DELIVERY/TRUCK/TRAILER'\n",
    "bodytype = data.index[data['Vehicle Body Type'] == 'FLAT']\n",
    "data.loc[bodytype, 'Vehicle Body Type'] = 'DELIVERY/TRUCK/TRAILER'\n",
    "\n",
    "bodytype = data.index[data['Vehicle Body Type'] == 'CONV']\n",
    "data.loc[bodytype, 'Vehicle Body Type'] = 'CONVERTIBLE'\n",
    "\n",
    "bodytype = data.index[data['Vehicle Body Type'] == 'MCY']\n",
    "data.loc[bodytype, 'Vehicle Body Type'] = 'MOTORCYCLE'\n",
    "\n",
    "bodytype = data.index[data['Vehicle Body Type'] == 'WAGO']\n",
    "data.loc[bodytype, 'Vehicle Body Type'] = 'STATION WAGON'"
   ]
  },
  {
   "cell_type": "code",
   "execution_count": null,
   "metadata": {
    "collapsed": false
   },
   "outputs": [
    {
     "data": {
      "text/plain": [
       "Vehicle Body Type\n",
       "SEDAN                     3231219\n",
       "SUV                       2876737\n",
       "VAN                       1384393\n",
       "DELIVERY/TRUCK/TRAILER     926666\n",
       "PICKUP                     250156\n",
       "TAXI                        50946\n",
       "BUS                         43382\n",
       "CONVERTIBLE                 41714\n",
       "MOTORCYCLE                  28976\n",
       "STATION WAGON               11936\n",
       "dtype: int64"
      ]
     },
     "execution_count": 19,
     "metadata": {},
     "output_type": "execute_result"
    }
   ],
   "source": [
    "# total\n",
    "data.groupby('Vehicle Body Type').size().order(ascending=False).head(10)"
   ]
  },
  {
   "cell_type": "code",
   "execution_count": null,
   "metadata": {
    "collapsed": false
   },
   "outputs": [],
   "source": [
    "# percentage\n",
    "temp = data.groupby('Vehicle Body Type').size().apply(lambda x: 100*x/float(data.shape[0])).order(ascending=False).head(10)\n",
    "temp"
   ]
  },
  {
   "cell_type": "code",
   "execution_count": null,
   "metadata": {
    "collapsed": false
   },
   "outputs": [],
   "source": [
    "# numbers from http://www.autocareweek.com/wp-content/uploads/2014/07/IHS_SUV_CUV_Share_Chart_071614.pdf\n",
    "# http://www.nyc.gov/html/tlc/downloads/pdf/2014_taxicab_fact_book.pdf\n",
    "# http://web.mta.info/nyct/facts/ffbus.htm\n",
    "# http://www.truckinfo.net/trucking/stats.htm\n",
    "# http://www.statista.com/statistics/191002/number-of-registered-motorcycles-in-the-us-by-state/\n",
    "byBodyType = {'SEDAN':35.4, 'SUV':36.5, 'VAN':3.6, 'DELIVERY/TRUCK/TRAILER':0.7, 'PICKUP':13.1, 'TAXI':0.14, 'BUS':0.05, 'CONVERTIBLE':1.0, 'MOTORCYCLE':3.5, 'STATION WAGON': 1.2}\n",
    "styles = ['SEDAN', 'SUV', 'VAN', 'DELIVERY/TRUCK/TRAILER', 'PICKUP', 'TAXI', 'BUS', 'CONVERTIBLE', 'MOTORCYCLE', 'STATION WAGON']\n",
    "for style in styles:\n",
    "    print('%s\\t%f' % (style, byBodyType[style]))"
   ]
  },
  {
   "cell_type": "code",
   "execution_count": null,
   "metadata": {
    "collapsed": false
   },
   "outputs": [],
   "source": [
    "temp2 = pd.Series(byBodyType)\n",
    "diff = temp - temp2\n",
    "diff.order().plot(kind='barh', figsize=[9, 10])\n",
    "plt.title('Dataset vs Population')\n",
    "plt.ylabel('Vehicle Body Type')\n",
    "plt.xlabel('Percentage Difference')"
   ]
  },
  {
   "cell_type": "markdown",
   "metadata": {},
   "source": [
    "# By violation code"
   ]
  },
  {
   "cell_type": "code",
   "execution_count": null,
   "metadata": {
    "collapsed": false
   },
   "outputs": [],
   "source": [
    "# total\n",
    "data.groupby('Violation Code').size().order(ascending=False).head(10)"
   ]
  },
  {
   "cell_type": "code",
   "execution_count": null,
   "metadata": {
    "collapsed": false
   },
   "outputs": [],
   "source": [
    "# percentage\n",
    "temp = data.groupby('Violation Code').size().apply(lambda x: 100*x/float(data.shape[0])).order(ascending=False).head(10)\n",
    "temp"
   ]
  },
  {
   "cell_type": "markdown",
   "metadata": {},
   "source": [
    "Violation codes (from http://www1.nyc.gov/site/finance/vehicles/services-violation-codes.page)\n",
    "\n",
    "**38** Muni Meter - Failing to show a receipt or tag in the windshield\n",
    "\n",
    "**21** Street Cleaning: No parking where parking is not allowed by sign, street marking or traffic control device\n",
    "\n",
    "**14** General No Standing: Standing or parking where standing is not allowed by sign, street marking or; traffic control device\n",
    "\n",
    "**37** Muni Meter - Parking in excess of the allowed time\n",
    "\n",
    "**20** General No Parking: No parking where parking is not allowed by sign, street marking or traffic control device\n",
    "\n",
    "**71** Standing or parking a vehicle without showing a current inspection sticker\n",
    "\n",
    "**46** Standing or parking on the roadway side of a vehicle stopped, standing or parked at the curb; in other words also known as \"double parking\"\n",
    "\n",
    "**40** Stopping, standing or parking closer than 15 feet of a fire hydrant\n",
    "\n",
    "**7** Vehicles photographed going through a red light at an intersection\n",
    "\n",
    "**19** Bus Stop: Standing or parking where standing is not allowed by sign, street marking or; traffic control device"
   ]
  }
 ],
 "metadata": {
  "kernelspec": {
   "display_name": "Python 3",
   "language": "python",
   "name": "python3"
  },
  "language_info": {
   "codemirror_mode": {
    "name": "ipython",
    "version": 3
   },
   "file_extension": ".py",
   "mimetype": "text/x-python",
   "name": "python",
   "nbconvert_exporter": "python",
   "pygments_lexer": "ipython3",
   "version": "3.4.1"
  }
 },
 "nbformat": 4,
 "nbformat_minor": 0
}
