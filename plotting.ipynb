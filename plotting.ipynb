{
 "cells": [
  {
   "cell_type": "code",
   "execution_count": 1,
   "metadata": {
    "collapsed": false
   },
   "outputs": [
    {
     "name": "stderr",
     "output_type": "stream",
     "text": [
      "/usr/lib64/python3.4/site-packages/matplotlib/backends/backend_gtk3agg.py:18: UserWarning: The Gtk3Agg backend is known to not work on Python 3.x with pycairo. Try installing cairocffi.\n",
      "  \"The Gtk3Agg backend is known to not work on Python 3.x with pycairo. \"\n"
     ]
    }
   ],
   "source": [
    "import pandas as pd\n",
    "from mpl_toolkits.basemap import Basemap\n",
    "import matplotlib.pyplot as plt\n",
    "%matplotlib inline\n",
    "\n",
    "data = pd.read_csv('parkinggeocoded.csv')"
   ]
  },
  {
   "cell_type": "code",
   "execution_count": 2,
   "metadata": {
    "collapsed": false
   },
   "outputs": [
    {
     "data": {
      "text/plain": [
       "Index(['SummonsNumber', 'PlateID', 'RegistrationState', 'PlateType',\n",
       "       'IssueDate', 'ViolationCode', 'VehicleBodyType', 'VehicleMake',\n",
       "       'IssuingAgency', 'StreetCode1', 'StreetCode2', 'StreetCode3',\n",
       "       'VehicleExpirationDate', 'ViolationLocation', 'ViolationPrecinct',\n",
       "       'IssuerPrecinct', 'IssuerCode', 'IssuerCommand', 'IssuerSquad',\n",
       "       'ViolationTime', 'TimeFirstObserved', 'ViolationCounty',\n",
       "       'ViolationInFrontOfOrOpposite', 'HouseNumber', 'StreetName',\n",
       "       'IntersectingStreet', 'DateFirstObserved', 'LawSection', 'SubDivision',\n",
       "       'ViolationLegalCode', 'DaysParkingInEffect', 'FromHoursInEffect',\n",
       "       'ToHoursInEffect', 'VehicleColor', 'UnregisteredVehicle', 'VehicleYear',\n",
       "       'MeterNumber', 'FeetFromCurb', 'ViolationPostCode',\n",
       "       'ViolationDescription', 'NoStandingorStoppingViolation',\n",
       "       'HydrantViolation', 'DoubleParkingViolation', 'precinct', 'gsRetCode',\n",
       "       'latitude', 'longitude', 'message', 'onstreet', 'fromstreet',\n",
       "       'tostreet', 'issuedatetime', 'month', 'yr', 'dow', 'dayofmonth', 'hr'],\n",
       "      dtype='object')"
      ]
     },
     "execution_count": 2,
     "metadata": {},
     "output_type": "execute_result"
    }
   ],
   "source": [
    "data.columns"
   ]
  },
  {
   "cell_type": "code",
   "execution_count": 22,
   "metadata": {
    "collapsed": false
   },
   "outputs": [],
   "source": [
    "data[['longitude', 'latitude']].sample(frac=0.1).to_csv('sample.csv', header=False, index=False)"
   ]
  }
 ],
 "metadata": {
  "kernelspec": {
   "display_name": "Python 3",
   "language": "python",
   "name": "python3"
  },
  "language_info": {
   "codemirror_mode": {
    "name": "ipython",
    "version": 3
   },
   "file_extension": ".py",
   "mimetype": "text/x-python",
   "name": "python",
   "nbconvert_exporter": "python",
   "pygments_lexer": "ipython3",
   "version": "3.4.1"
  }
 },
 "nbformat": 4,
 "nbformat_minor": 0
}
